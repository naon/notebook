{
 "cells": [
  {
   "cell_type": "markdown",
   "id": "9f666656",
   "metadata": {},
   "source": [
    "# Data Science Tools and Ecosystem"
   ]
  },
  {
   "cell_type": "markdown",
   "id": "fd7fb28d",
   "metadata": {},
   "source": [
    "## In this notebook, Data Science Tools and Ecosystem are summarized."
   ]
  },
  {
   "cell_type": "markdown",
   "id": "2f8f7361",
   "metadata": {},
   "source": [
    "# **Objectives:**"
   ]
  },
  {
   "cell_type": "markdown",
   "id": "728062c7",
   "metadata": {},
   "source": [
    "## List popular languages for Data Science\n",
    "- R\n",
    "- Python\n",
    "- Scala\n"
   ]
  },
  {
   "cell_type": "markdown",
   "id": "079d4888",
   "metadata": {},
   "source": [
    "## Some of the popular languages that Data Scientists use are:\n",
    "## 1. Python\n",
    "## 2. R\n",
    "## 3. Julia\n",
    "## 4. R"
   ]
  },
  {
   "cell_type": "markdown",
   "id": "bca9d74a",
   "metadata": {},
   "source": [
    "## Some of the commonly used libraries used by Data Scientists include:\n",
    "## 1. ggplot\n",
    "## 2. Pandas \n",
    "## 3. NumPy\n",
    "## 4. dplyr"
   ]
  },
  {
   "cell_type": "markdown",
   "id": "7e822bc7",
   "metadata": {},
   "source": [
    "\n",
    "| Data Science Tools |\n",
    "|--------------------|\n",
    "| VS Code            |\n",
    "| JupytherLab        |  \n",
    "| Google Collab      |\n"
   ]
  },
  {
   "cell_type": "markdown",
   "id": "b5a4a742",
   "metadata": {},
   "source": [
    "### Below are a few examples of evaluating arithmetic expressions in Python"
   ]
  },
  {
   "cell_type": "code",
   "execution_count": 2,
   "id": "7b743e59",
   "metadata": {},
   "outputs": [
    {
     "data": {
      "text/plain": [
       "17"
      ]
     },
     "execution_count": 2,
     "metadata": {},
     "output_type": "execute_result"
    }
   ],
   "source": [
    "#This a simple arithmetic expression to mutiply then add integers\n",
    "(3*4)+5"
   ]
  },
  {
   "cell_type": "code",
   "execution_count": 3,
   "id": "c02ad0bf",
   "metadata": {},
   "outputs": [
    {
     "data": {
      "text/plain": [
       "3.3333333333333335"
      ]
     },
     "execution_count": 3,
     "metadata": {},
     "output_type": "execute_result"
    }
   ],
   "source": [
    "#This will convert 200 minutes to hours by diving by 60\n",
    "200/60"
   ]
  },
  {
   "cell_type": "markdown",
   "id": "7d827092",
   "metadata": {},
   "source": [
    "## Author \n",
    "Adama NAON\n"
   ]
  },
  {
   "cell_type": "code",
   "execution_count": null,
   "id": "1a503537",
   "metadata": {},
   "outputs": [],
   "source": []
  }
 ],
 "metadata": {
  "kernelspec": {
   "display_name": "Python 3 (ipykernel)",
   "language": "python",
   "name": "python3"
  },
  "language_info": {
   "codemirror_mode": {
    "name": "ipython",
    "version": 3
   },
   "file_extension": ".py",
   "mimetype": "text/x-python",
   "name": "python",
   "nbconvert_exporter": "python",
   "pygments_lexer": "ipython3",
   "version": "3.9.13"
  }
 },
 "nbformat": 4,
 "nbformat_minor": 5
}
